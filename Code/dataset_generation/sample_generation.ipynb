{
 "cells": [
  {
   "cell_type": "code",
   "execution_count": 28,
   "metadata": {
    "collapsed": true
   },
   "outputs": [],
   "source": [
    "import numpy as np\n",
    "import glob2\n",
    "import zipfile"
   ]
  },
  {
   "cell_type": "code",
   "execution_count": 25,
   "outputs": [],
   "source": [
    "path_data_base = 'D:/Projects/Masterarbeit/Data'\n",
    "path_data_txt = path_data_base + '/DocBank_500K_txt'\n",
    "path_data_img = path_data_base + '/DocBank_500K_ori_img'\n",
    "\n",
    "sample_size = 5000\n",
    "seed = 33"
   ],
   "metadata": {
    "collapsed": false,
    "pycharm": {
     "name": "#%%\n"
    }
   }
  },
  {
   "cell_type": "code",
   "execution_count": 15,
   "outputs": [],
   "source": [
    "txt_list = glob2.glob(path_data_txt + '/*.txt')"
   ],
   "metadata": {
    "collapsed": false,
    "pycharm": {
     "name": "#%%\n"
    }
   }
  },
  {
   "cell_type": "code",
   "execution_count": 24,
   "outputs": [],
   "source": [
    "np.random.seed(seed=seed)\n",
    "sample_txt = np.random.choice(txt_list, sample_size, replace=False)"
   ],
   "metadata": {
    "collapsed": false,
    "pycharm": {
     "name": "#%%\n"
    }
   }
  },
  {
   "cell_type": "code",
   "execution_count": 26,
   "outputs": [],
   "source": [
    "sample_txt = [x.replace('\\\\', '/') for x in sample_txt]\n",
    "sample_img = [x.replace(path_data_txt, path_data_img).replace('.txt', '_ori.jpg') for x in sample_txt]"
   ],
   "metadata": {
    "collapsed": false,
    "pycharm": {
     "name": "#%%\n"
    }
   }
  },
  {
   "cell_type": "code",
   "execution_count": 29,
   "outputs": [],
   "source": [
    "with zipfile.ZipFile('sample_txt.zip', 'w') as zipMe:\n",
    "    for file in sample_txt:\n",
    "        zipMe.write(file, compress_type=zipfile.ZIP_DEFLATED)"
   ],
   "metadata": {
    "collapsed": false,
    "pycharm": {
     "name": "#%%\n"
    }
   }
  },
  {
   "cell_type": "code",
   "execution_count": 30,
   "outputs": [],
   "source": [
    "with zipfile.ZipFile('sample_img.zip', 'w') as zipMe:\n",
    "    for file in sample_img:\n",
    "        zipMe.write(file, compress_type=zipfile.ZIP_DEFLATED)"
   ],
   "metadata": {
    "collapsed": false,
    "pycharm": {
     "name": "#%%\n"
    }
   }
  },
  {
   "cell_type": "code",
   "execution_count": null,
   "outputs": [],
   "source": [],
   "metadata": {
    "collapsed": false,
    "pycharm": {
     "name": "#%%\n"
    }
   }
  }
 ],
 "metadata": {
  "kernelspec": {
   "display_name": "Python 3",
   "language": "python",
   "name": "python3"
  },
  "language_info": {
   "codemirror_mode": {
    "name": "ipython",
    "version": 2
   },
   "file_extension": ".py",
   "mimetype": "text/x-python",
   "name": "python",
   "nbconvert_exporter": "python",
   "pygments_lexer": "ipython2",
   "version": "2.7.6"
  }
 },
 "nbformat": 4,
 "nbformat_minor": 0
}